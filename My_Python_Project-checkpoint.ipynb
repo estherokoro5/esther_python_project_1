{
 "cells": [
  {
   "cell_type": "code",
   "execution_count": 1,
   "id": "16ca145c-84c5-4af8-893a-dbbeed416b4b",
   "metadata": {},
   "outputs": [
    {
     "name": "stdout",
     "output_type": "stream",
     "text": [
      "Hello Esther\n"
     ]
    }
   ],
   "source": [
    "print(\"Hello Esther\")"
   ]
  },
  {
   "cell_type": "code",
   "execution_count": 2,
   "id": "c68081c6-d5fb-457e-be16-d59a852c7f2d",
   "metadata": {},
   "outputs": [
    {
     "name": "stdin",
     "output_type": "stream",
     "text": [
      "enter your age 24\n"
     ]
    },
    {
     "name": "stdout",
     "output_type": "stream",
     "text": [
      "<bound method Kernel.raw_input of <ipykernel.ipkernel.IPythonKernel object at 0x000001639FAC10D0>>\n"
     ]
    }
   ],
   "source": [
    "name = input(\"enter your age\")\n",
    "print(input)"
   ]
  },
  {
   "cell_type": "code",
   "execution_count": 3,
   "id": "e7fb0fe3-ab2e-47ae-8607-01cd9a291fa5",
   "metadata": {},
   "outputs": [
    {
     "name": "stdout",
     "output_type": "stream",
     "text": [
      "python\n",
      "40.7\n",
      "4\n"
     ]
    }
   ],
   "source": [
    "a = \"python\"\n",
    "b = 40.7\n",
    "x = 4\n",
    "\n",
    "print(a)\n",
    "print(b)\n",
    "print(x)"
   ]
  },
  {
   "cell_type": "code",
   "execution_count": 4,
   "id": "c2a21b77-d8b7-4ab3-8ae2-e2d0b004d56a",
   "metadata": {},
   "outputs": [
    {
     "name": "stdout",
     "output_type": "stream",
     "text": [
      "Stanley\n"
     ]
    }
   ],
   "source": [
    "_ = \"Stanley\"\n",
    "print(_)"
   ]
  },
  {
   "cell_type": "code",
   "execution_count": 5,
   "id": "f09eb035-06ba-4d29-b36c-6958b6260359",
   "metadata": {},
   "outputs": [
    {
     "name": "stdout",
     "output_type": "stream",
     "text": [
      "Jane\n"
     ]
    }
   ],
   "source": [
    "Name_of_student = \"Jane\"\n",
    "print(Name_of_student)"
   ]
  },
  {
   "cell_type": "code",
   "execution_count": 7,
   "id": "66b5522e-c176-4909-974b-764a9b9e4242",
   "metadata": {},
   "outputs": [
    {
     "name": "stdout",
     "output_type": "stream",
     "text": [
      "bed\n",
      "12\n"
     ]
    }
   ],
   "source": [
    "a,b,c = \"bed\",12,\"zero\"\n",
    "print(a)\n",
    "print(b)\n"
   ]
  },
  {
   "cell_type": "code",
   "execution_count": 8,
   "id": "34b1ab03-ffc7-42d0-8ceb-cd758dd5a7c1",
   "metadata": {},
   "outputs": [
    {
     "name": "stdout",
     "output_type": "stream",
     "text": [
      "60\n"
     ]
    }
   ],
   "source": [
    "num1 = 20\n",
    "num2 = 40\n",
    "total = num1 + num2\n",
    "print(total)"
   ]
  },
  {
   "cell_type": "code",
   "execution_count": 11,
   "id": "27cae5c6-fd3c-45f6-869e-18324d5078c1",
   "metadata": {},
   "outputs": [
    {
     "name": "stdout",
     "output_type": "stream",
     "text": [
      "31\n"
     ]
    }
   ],
   "source": [
    "number_1 = 15\n",
    "number_2 = 46\n",
    "difference = number_2 - number_1 \n",
    "print(difference)"
   ]
  },
  {
   "cell_type": "code",
   "execution_count": 13,
   "id": "e050712b-4ca7-4f11-a1ae-95365c24e8b7",
   "metadata": {},
   "outputs": [
    {
     "name": "stdout",
     "output_type": "stream",
     "text": [
      "penbagpencil\n",
      "pen bag pencil\n"
     ]
    }
   ],
   "source": [
    "item1 = \"pen\"\n",
    "item2 = \"bag\"\n",
    "item3 = \"pencil\"\n",
    "print(item1 + item2 + item3)\n",
    "print(item1,item2,item3)"
   ]
  },
  {
   "cell_type": "code",
   "execution_count": 14,
   "id": "4735290d-f827-40b1-9914-a1bfaa2a5101",
   "metadata": {},
   "outputs": [
    {
     "name": "stdout",
     "output_type": "stream",
     "text": [
      "Nnamdi Azikiwe UNiversity\n",
      "<class 'str'>\n"
     ]
    }
   ],
   "source": [
    "school = \"Nnamdi Azikiwe UNiversity\"\n",
    "print(school)\n",
    "print(type(school))"
   ]
  },
  {
   "cell_type": "code",
   "execution_count": 15,
   "id": "16ac7df4-01fe-4a89-a216-bf10a701a64c",
   "metadata": {},
   "outputs": [
    {
     "name": "stdout",
     "output_type": "stream",
     "text": [
      "40.7\n",
      "<class 'float'>\n",
      "17\n",
      "<class 'int'>\n"
     ]
    }
   ],
   "source": [
    "Age = 40.7\n",
    "height = 17\n",
    "print(Age)\n",
    "print(type(Age))\n",
    "print(height)\n",
    "print(type(height))"
   ]
  },
  {
   "cell_type": "code",
   "execution_count": 16,
   "id": "6ac4185a-ae9f-4d09-88e8-b229094a4ceb",
   "metadata": {},
   "outputs": [
    {
     "name": "stdout",
     "output_type": "stream",
     "text": [
      "[1, 2, 3, 5, 6, 7, 8, 9]\n",
      "<class 'list'>\n",
      "['olu', 'mercy', 'JJ']\n",
      "<class 'list'>\n"
     ]
    }
   ],
   "source": [
    "numbers = [1,2,3,5,6,7,8,9]\n",
    "names = [\"olu\",\"mercy\",\"JJ\"]\n",
    "print(numbers)\n",
    "print(type(numbers))\n",
    "print(names)\n",
    "print(type(names))"
   ]
  },
  {
   "cell_type": "code",
   "execution_count": 17,
   "id": "6fd2fac2-5f45-43b4-9a5b-6ddeb73b61bd",
   "metadata": {},
   "outputs": [
    {
     "name": "stdout",
     "output_type": "stream",
     "text": [
      "('fish', 'seasoning cube')\n",
      "<class 'tuple'>\n"
     ]
    }
   ],
   "source": [
    "Foodstuff = (\"fish\",\"seasoning cube\")\n",
    "print(Foodstuff)\n",
    "print(type(Foodstuff))"
   ]
  },
  {
   "cell_type": "code",
   "execution_count": 18,
   "id": "6995d5c3-56ec-47b6-8dc2-f71684914ca2",
   "metadata": {},
   "outputs": [
    {
     "name": "stdout",
     "output_type": "stream",
     "text": [
      "range(1, 20)\n",
      "<class 'range'>\n"
     ]
    }
   ],
   "source": [
    "r = range(1,20)\n",
    "print(r)\n",
    "print(type(r))"
   ]
  },
  {
   "cell_type": "code",
   "execution_count": 20,
   "id": "225b93b2-99ee-4146-b3ff-e6db0f33744a",
   "metadata": {},
   "outputs": [
    {
     "name": "stdout",
     "output_type": "stream",
     "text": [
      "1\n",
      "2\n",
      "3\n",
      "4\n",
      "5\n",
      "6\n",
      "7\n",
      "8\n",
      "9\n",
      "10\n",
      "11\n",
      "12\n",
      "13\n",
      "14\n",
      "15\n",
      "16\n",
      "17\n",
      "18\n",
      "19\n"
     ]
    }
   ],
   "source": [
    "for i in range (1,20):\n",
    " print(i)"
   ]
  },
  {
   "cell_type": "code",
   "execution_count": 21,
   "id": "44af8520-6f7a-4e4e-9acd-e2d9fe5cb7f1",
   "metadata": {},
   "outputs": [
    {
     "name": "stdout",
     "output_type": "stream",
     "text": [
      "{1, 2, 'Chiamaka', 4, 6, 7, 'Esther'}\n"
     ]
    }
   ],
   "source": [
    "set = {2,1,1, 4, 6, 7,\"Esther\",\"Chiamaka\",\"Esther\"}\n",
    "print(set)"
   ]
  },
  {
   "cell_type": "code",
   "execution_count": 23,
   "id": "2665ad75-3f8e-4646-b478-67afde70de45",
   "metadata": {},
   "outputs": [
    {
     "name": "stdout",
     "output_type": "stream",
     "text": [
      "{'name': 'esther', 'age': 16}\n",
      "<class 'dict'>\n"
     ]
    }
   ],
   "source": [
    "d = {\"name\":\"esther\",\"age\":16}\n",
    "print(d)\n",
    "print(type(d))"
   ]
  },
  {
   "cell_type": "code",
   "execution_count": 24,
   "id": "e04459b7-6d49-4d36-b5e6-c9aa03c8dd9c",
   "metadata": {},
   "outputs": [
    {
     "name": "stdout",
     "output_type": "stream",
     "text": [
      "True\n"
     ]
    }
   ],
   "source": [
    "2==2\n",
    "print(2==2)"
   ]
  },
  {
   "cell_type": "code",
   "execution_count": 25,
   "id": "15c7075a-51a5-4987-bd83-8e83d0924ed5",
   "metadata": {},
   "outputs": [
    {
     "name": "stdout",
     "output_type": "stream",
     "text": [
      "True\n"
     ]
    }
   ],
   "source": [
    "3!=4\n",
    "print(3!=4)"
   ]
  },
  {
   "cell_type": "code",
   "execution_count": 26,
   "id": "0234c885-d6f0-4d47-8193-5ef317bbe8eb",
   "metadata": {},
   "outputs": [
    {
     "name": "stdout",
     "output_type": "stream",
     "text": [
      "True\n"
     ]
    }
   ],
   "source": [
    "3>2\n",
    "print(3>2)"
   ]
  },
  {
   "cell_type": "code",
   "execution_count": 27,
   "id": "a81edbbc-8a70-44f4-9968-bffa1b004e09",
   "metadata": {},
   "outputs": [
    {
     "name": "stdout",
     "output_type": "stream",
     "text": [
      "False\n"
     ]
    }
   ],
   "source": [
    "25<21\n",
    "print(25<21)"
   ]
  },
  {
   "cell_type": "code",
   "execution_count": null,
   "id": "12338ade-11f9-45b4-8acf-b0d7bfac7729",
   "metadata": {},
   "outputs": [],
   "source": []
  },
  {
   "cell_type": "code",
   "execution_count": null,
   "id": "946fc6ce-b384-48b1-9ab6-25d531a255e8",
   "metadata": {},
   "outputs": [],
   "source": []
  }
 ],
 "metadata": {
  "kernelspec": {
   "display_name": "Python 3 (ipykernel)",
   "language": "python",
   "name": "python3"
  },
  "language_info": {
   "codemirror_mode": {
    "name": "ipython",
    "version": 3
   },
   "file_extension": ".py",
   "mimetype": "text/x-python",
   "name": "python",
   "nbconvert_exporter": "python",
   "pygments_lexer": "ipython3",
   "version": "3.11.7"
  }
 },
 "nbformat": 4,
 "nbformat_minor": 5
}
